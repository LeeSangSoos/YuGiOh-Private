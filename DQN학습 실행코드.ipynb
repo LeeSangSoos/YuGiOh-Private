{
  "cells": [
    {
      "cell_type": "code",
      "execution_count": null,
      "metadata": {
        "collapsed": true,
        "id": "QvoyHzQSVD1C"
      },
      "outputs": [],
      "source": [
        "!pip install rlcard[torch]"
      ]
    },
    {
      "cell_type": "code",
      "execution_count": null,
      "metadata": {
        "id": "zrJuiPkMVqAa"
      },
      "outputs": [],
      "source": [
        "import rlcard\n",
        "from rlcard.agents import DQNAgent\n",
        "from rlcard.agents import RandomAgent\n",
        "import os\n",
        "import torch"
      ]
    },
    {
      "cell_type": "markdown",
      "metadata": {
        "id": "ie0ac8w1GEb-"
      },
      "source": [
        "게임 환경 생성"
      ]
    },
    {
      "cell_type": "code",
      "execution_count": null,
      "metadata": {
        "colab": {
          "base_uri": "https://localhost:8080/"
        },
        "id": "LWwPeCxoVv-q",
        "outputId": "f9f33c98-9479-42fb-a804-e661b3111e9a"
      },
      "outputs": [
        {
          "name": "stdout",
          "output_type": "stream",
          "text": [
            "Number of actions: 473\n",
            "Number of players: 2\n",
            "Shape of state: [[6, 7, 4], [6, 7, 4]]\n",
            "Shape of action: [None, None]\n"
          ]
        }
      ],
      "source": [
        "env = rlcard.make(\"custom\")\n",
        "print(\"Number of actions:\", env.num_actions)\n",
        "print(\"Number of players:\", env.num_players)\n",
        "print(\"Shape of state:\", env.state_shape)\n",
        "print(\"Shape of action:\", env.action_shape)"
      ]
    },
    {
      "cell_type": "markdown",
      "metadata": {
        "id": "MlE3K4IkF6Ub"
      },
      "source": [
        "DQN agent 생성, 랜덤 agent 생성"
      ]
    },
    {
      "cell_type": "code",
      "execution_count": null,
      "metadata": {
        "id": "MTtDKrIlVwaq"
      },
      "outputs": [],
      "source": [
        "agent = DQNAgent(\n",
        "    num_actions=env.num_actions,\n",
        "    state_shape=env.state_shape[0],\n",
        "    mlp_layers=[512, 512],\n",
        "    learning_rate = 0.00005,\n",
        ")\n",
        "agents = [agent]\n",
        "for _ in range(1, env.num_players):\n",
        "        agents.append(RandomAgent(num_actions=env.num_actions))"
      ]
    },
    {
      "cell_type": "markdown",
      "metadata": {
        "id": "EE8BXu67F9Q7"
      },
      "source": [
        "저장된 DQN agent 불러올때 사용"
      ]
    },
    {
      "cell_type": "code",
      "execution_count": 1,
      "metadata": {
        "id": "AsGXtMZr5KRw"
      },
      "outputs": [],
      "source": [
        "# checkpoint = torch.load('saved_models/SavedDQNAgent.pth')\n",
        "# agent = DQNAgent.from_checkpoint(checkpoint)\n",
        "# agents = [agent]\n",
        "# for _ in range(1, env.num_players):\n",
        "#         agents.append(RandomAgent(num_actions=env.num_actions))"
      ]
    },
    {
      "cell_type": "markdown",
      "metadata": {
        "id": "Dzqz2LvVGIW3"
      },
      "source": [
        "게임에 agent 둘 추가"
      ]
    },
    {
      "cell_type": "code",
      "execution_count": null,
      "metadata": {
        "id": "enmemwbQVysK"
      },
      "outputs": [],
      "source": [
        "env.set_agents(agents)"
      ]
    },
    {
      "cell_type": "code",
      "execution_count": null,
      "metadata": {
        "id": "8x-KMOAKV1V6"
      },
      "outputs": [],
      "source": [
        "from rlcard.utils import (\n",
        "    tournament,\n",
        "    reorganize,\n",
        "    Logger,\n",
        "    plot_curve,\n",
        ")"
      ]
    },
    {
      "cell_type": "markdown",
      "metadata": {
        "id": "STvSH2ZGGOKD"
      },
      "source": [
        "학습 시작"
      ]
    },
    {
      "cell_type": "code",
      "execution_count": null,
      "metadata": {
        "collapsed": true,
        "id": "ncWMmQ0DV206"
      },
      "outputs": [],
      "source": [
        "with Logger(\"experiments/custom_dqn_result/\") as logger:\n",
        "    for episode in range(1000):\n",
        "\n",
        "        # Generate data from the environment\n",
        "        trajectories, payoffs = env.run(is_training=True)\n",
        "\n",
        "        # Reorganaize the data to be state, action, reward, next_state, done\n",
        "        trajectories = reorganize(trajectories, payoffs)\n",
        "\n",
        "        # Feed transitions into agent memory, and train the agent\n",
        "        for ts in trajectories[0]:\n",
        "            agent.feed(ts)\n",
        "\n",
        "        # Evaluate the performance.\n",
        "        if episode % 50 == 0:\n",
        "            logger.log_performance(\n",
        "                episode,\n",
        "                tournament(\n",
        "                    env,\n",
        "                    100,\n",
        "                )[0]\n",
        "            )\n",
        "\n",
        "    # save model\n",
        "    os.makedirs('saved_models', exist_ok=True)\n",
        "    agent.save_checkpoint(path='saved_models', filename='SavedDQNAgent.pth')\n",
        "\n",
        "    # Get the paths\n",
        "    csv_path, fig_path = logger.csv_path, logger.fig_path"
      ]
    },
    {
      "cell_type": "markdown",
      "metadata": {
        "id": "aefzYlAiGQhT"
      },
      "source": [
        "결과 학습 곡선"
      ]
    },
    {
      "cell_type": "code",
      "execution_count": null,
      "metadata": {
        "id": "oJ5_XvreV8vE"
      },
      "outputs": [],
      "source": [
        "plot_curve(csv_path, fig_path, \"DQN\")"
      ]
    }
  ],
  "metadata": {
    "accelerator": "GPU",
    "colab": {
      "gpuType": "V100",
      "machine_shape": "hm",
      "provenance": []
    },
    "kernelspec": {
      "display_name": "Python 3",
      "name": "python3"
    },
    "language_info": {
      "name": "python"
    }
  },
  "nbformat": 4,
  "nbformat_minor": 0
}
